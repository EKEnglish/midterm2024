{
  "nbformat": 4,
  "nbformat_minor": 0,
  "metadata": {
    "colab": {
      "provenance": [],
      "authorship_tag": "ABX9TyNYtEkfnOEercZon+nOhAS2",
      "include_colab_link": true
    },
    "kernelspec": {
      "name": "python3",
      "display_name": "Python 3"
    },
    "language_info": {
      "name": "python"
    }
  },
  "cells": [
    {
      "cell_type": "markdown",
      "metadata": {
        "id": "view-in-github",
        "colab_type": "text"
      },
      "source": [
        "<a href=\"https://colab.research.google.com/github/EKEnglish/midterm2024/blob/main/202358011.ipynb\" target=\"_parent\"><img src=\"https://colab.research.google.com/assets/colab-badge.svg\" alt=\"Open In Colab\"/></a>"
      ]
    },
    {
      "cell_type": "code",
      "execution_count": null,
      "metadata": {
        "id": "K5itqWntvtWn"
      },
      "outputs": [],
      "source": []
    },
    {
      "cell_type": "markdown",
      "source": [
        "# 🌀Midterm 2024:Jeongsook Kwon(202358011)"
      ],
      "metadata": {
        "id": "GaWB0XSNv50u"
      }
    },
    {
      "cell_type": "markdown",
      "source": [
        "## Name Question"
      ],
      "metadata": {
        "id": "HLQ6K4D-yPxe"
      }
    },
    {
      "cell_type": "code",
      "source": [
        "# 'Name question'\n",
        "x = \"My name is\"\n",
        "y = \"Jeongsook.\"\n",
        "print(x,y)\n"
      ],
      "metadata": {
        "colab": {
          "base_uri": "https://localhost:8080/"
        },
        "id": "qm6P7EyDyltr",
        "outputId": "bc4a966a-28d5-445e-e4fa-f7409552beb0"
      },
      "execution_count": 3,
      "outputs": [
        {
          "output_type": "stream",
          "name": "stdout",
          "text": [
            "My name is Jeongsook.\n"
          ]
        }
      ]
    },
    {
      "cell_type": "markdown",
      "source": [
        "## Variable Question"
      ],
      "metadata": {
        "id": "riEGtFowzXaE"
      }
    },
    {
      "cell_type": "code",
      "source": [
        "# 'Marry, 1998, Ohio: and John, 1999, Boston.'\n",
        "x=input('Name:');y=input('born in:');z=input('hometown:')\n",
        "print(f\"Hello my name is, {x}!\"), print(f\"I was born in, {y}\")\n",
        "print(f\"I'm from, {z}\")\n",
        "print(\"Nice to meet you!\")"
      ],
      "metadata": {
        "colab": {
          "base_uri": "https://localhost:8080/"
        },
        "id": "Hk77crpWznje",
        "outputId": "983ceeb1-458f-41ef-c6e3-c0774551520f"
      },
      "execution_count": 13,
      "outputs": [
        {
          "output_type": "stream",
          "name": "stdout",
          "text": [
            "Name:John\n",
            "born in:1999\n",
            "hometown:Boston\n",
            "Hello my name is, John!\n",
            "I was born in, 1999\n",
            "I'm from, Boston\n",
            "Nice to meet you!\n"
          ]
        }
      ]
    },
    {
      "cell_type": "markdown",
      "source": [
        "## Index Question"
      ],
      "metadata": {
        "id": "TOoHc1sl5l6u"
      }
    },
    {
      "cell_type": "code",
      "source": [],
      "metadata": {
        "id": "II-MBgDH7ATC"
      },
      "execution_count": null,
      "outputs": []
    },
    {
      "cell_type": "code",
      "source": [
        "# Dropdown\n",
        "\n",
        "cardinal_number = \"1\" #@param = [\"1\",\"2\",\"3\",\"4\"]\n",
        "\n",
        "# Add one line of code below\n",
        "cardinal_number = int(cardinal_number)\n",
        "ordinal_number = int(cardinal_number - 1)\n",
        "\n",
        "# Ordinal expression as a list\n",
        "\n",
        "words = [\"First\",\"Second\",\"Third\",\"Fourth\"]\n",
        "\n",
        "print(\"The ordinal expression:\", words[ordinal_number])"
      ],
      "metadata": {
        "id": "C11U4A9cmwYa",
        "colab": {
          "base_uri": "https://localhost:8080/"
        },
        "outputId": "abb7e17a-05ae-4879-8b38-9d15ef6072ce"
      },
      "execution_count": 31,
      "outputs": [
        {
          "output_type": "stream",
          "name": "stdout",
          "text": [
            "The ordinal expression: First\n"
          ]
        }
      ]
    },
    {
      "cell_type": "markdown",
      "source": [
        "## GTTS Question"
      ],
      "metadata": {
        "id": "la8xkq98Aypi"
      }
    },
    {
      "cell_type": "code",
      "execution_count": 34,
      "metadata": {
        "id": "XxAv_c45ed4T",
        "colab": {
          "base_uri": "https://localhost:8080/",
          "height": 281
        },
        "outputId": "05757c30-642d-42f3-9a31-ba388c99734e"
      },
      "outputs": [
        {
          "output_type": "stream",
          "name": "stdout",
          "text": [
            "Collecting gTTS\n",
            "  Downloading gTTS-2.5.1-py3-none-any.whl (29 kB)\n",
            "Requirement already satisfied: requests<3,>=2.27 in /usr/local/lib/python3.10/dist-packages (from gTTS) (2.31.0)\n",
            "Requirement already satisfied: click<8.2,>=7.1 in /usr/local/lib/python3.10/dist-packages (from gTTS) (8.1.7)\n",
            "Requirement already satisfied: charset-normalizer<4,>=2 in /usr/local/lib/python3.10/dist-packages (from requests<3,>=2.27->gTTS) (3.3.2)\n",
            "Requirement already satisfied: idna<4,>=2.5 in /usr/local/lib/python3.10/dist-packages (from requests<3,>=2.27->gTTS) (3.7)\n",
            "Requirement already satisfied: urllib3<3,>=1.21.1 in /usr/local/lib/python3.10/dist-packages (from requests<3,>=2.27->gTTS) (2.0.7)\n",
            "Requirement already satisfied: certifi>=2017.4.17 in /usr/local/lib/python3.10/dist-packages (from requests<3,>=2.27->gTTS) (2024.2.2)\n",
            "Installing collected packages: gTTS\n",
            "Successfully installed gTTS-2.5.1\n"
          ]
        },
        {
          "output_type": "display_data",
          "data": {
            "text/plain": [
              "<IPython.lib.display.Audio object>"
            ],
            "text/html": [
              "\n",
              "                <audio  controls=\"controls\" autoplay=\"autoplay\">\n",
              "                    <source src=\"data:audio/mpeg;base64,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\" type=\"audio/mpeg\" />\n",
              "                    Your browser does not support the audio element.\n",
              "                </audio>\n",
              "              "
            ]
          },
          "metadata": {}
        }
      ],
      "source": [
        "# First, install the gTTS library if you haven't already\n",
        "!pip install gTTS\n",
        "\n",
        "# Import the gTTS library\n",
        "from gtts import gTTS\n",
        "\n",
        "# Import IPython display module\n",
        "from IPython.display import Audio, display\n",
        "# Text to be converted to speech\n",
        "text = \"This is a test message.\"\n",
        "\n",
        "# Language in which you want to convert\n",
        "language = 'en'\n",
        "\n",
        "# Pass the text and language to the gTTS module\n",
        "speech = gTTS(text=text, lang=language, slow=False)\n",
        "\n",
        "# Save the converted audio file\n",
        "speech.save(\"output.mp3\")\n",
        "\n",
        "# Display the audio directly in the notebook\n",
        "display(Audio(\"output.mp3\", autoplay=True))"
      ]
    },
    {
      "cell_type": "markdown",
      "source": [
        "## Function Question"
      ],
      "metadata": {
        "id": "ihsm-5b8CsM7"
      }
    },
    {
      "cell_type": "code",
      "source": [
        "# Define a function for multiplication\n",
        "def devide(x, y):\n",
        "    return x / y\n",
        "\n",
        "# Test the function\n",
        "result = devide(20, 4)\n",
        "print(\"The result of multiplication is:\", result)"
      ],
      "metadata": {
        "id": "WbA_RrhWlYLC",
        "colab": {
          "base_uri": "https://localhost:8080/"
        },
        "outputId": "d2429311-4b09-4b3f-b5bb-c9b3c641ccfd"
      },
      "execution_count": 36,
      "outputs": [
        {
          "output_type": "stream",
          "name": "stdout",
          "text": [
            "The result of multiplication is: 5.0\n"
          ]
        }
      ]
    },
    {
      "cell_type": "markdown",
      "source": [
        "## Dictionary Question"
      ],
      "metadata": {
        "id": "UIrkmlLKDX0d"
      }
    },
    {
      "cell_type": "markdown",
      "source": [
        "## Audio Question"
      ],
      "metadata": {
        "id": "RPaN1SJtDxWU"
      }
    },
    {
      "cell_type": "code",
      "source": [
        "# First, install the gTTS library if you haven't already\n",
        "!pip install gTTS\n",
        "\n",
        "# Import the gTTS library\n",
        "from gtts import gTTS\n",
        "\n",
        "# Import IPython display module\n",
        "from IPython.display import Audio, display\n"
      ],
      "metadata": {
        "id": "6BkSZ3yCfobt"
      },
      "execution_count": null,
      "outputs": []
    },
    {
      "cell_type": "code",
      "execution_count": null,
      "metadata": {
        "id": "f48QOwbbEGnV"
      },
      "outputs": [],
      "source": [
        "# Text to be converted to speech\n",
        "text = \"This is a test message.\"\n",
        "\n",
        "# Language in which you want to convert\n",
        "language = 'en'\n",
        "\n",
        "# Pass the text and language to the gTTS module\n",
        "speech = gTTS(text = text, lang = language, slow = False)\n",
        "\n",
        "# Save the converted audio file\n",
        "speech.save(\"output.mp3\")\n",
        "\n",
        "# Display the audio directly in the notebook\n",
        "display(Audio(\"output.mp3\", autoplay=True))\n"
      ]
    },
    {
      "cell_type": "code",
      "source": [
        "import gradio as gr\n",
        "from gtts import gTTS\n",
        "import os\n",
        "\n",
        "def text_to_speech(text, language):\n",
        "    lang_code = 'en' if language == \"English\" else 'ko'\n",
        "    tts = gTTS(text=text, lang=lang_code, slow=False)\n",
        "    tts.save(\"output.mp3\")\n",
        "    return \"output.mp3\"\n",
        "\n",
        "interface = gr.Interface(\n",
        "    fn=text_to_speech,\n",
        "    inputs=[\n",
        "        gr.Textbox(lines=3, label=\"Enter text\"),\n",
        "        gr.Radio(choices=[\"English\", \"Korean\"], label=\"Select language\")\n",
        "    ],\n",
        "    outputs=gr.Audio(type=\"filepath\", label=\"Audio\"),\n",
        "    title=\"Text-to-Speech\",\n",
        "    description=\"Type in some text, select a language, and generate audio.\",\n",
        ")\n",
        "\n",
        "interface.launch()\n"
      ],
      "metadata": {
        "id": "SNCRdsaALhd3"
      },
      "execution_count": null,
      "outputs": []
    }
  ]
}